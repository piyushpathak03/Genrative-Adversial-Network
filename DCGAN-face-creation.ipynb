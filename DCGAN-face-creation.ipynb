{
 "cells": [
  {
   "cell_type": "markdown",
   "metadata": {},
   "source": [
    "# Training a DCGAN to draw human faces\n",
    "\n",
    "This notebook does not contain much documentation text. If you are wondering about the DCGAN code shown below, please take a look at the code of a DCGAN for MNIST creation. The architecture of this network is basically the same.\n",
    "\n",
    "## Examples created\n",
    "See the _examples_ directory, the _lfw_ images have been created by this network.\n",
    "\n",
    "\n",
    "## What to consider\n",
    "If you want to train this model yourself, please make sure you have a decent GPU--the example images were created after running the model on a Tesla K80 for several hours.\n",
    "\n",
    "\n",
    "\n",
    "## Downloading the LFW (Labeled Faces in the Wild) data"
   ]
  },
  {
   "cell_type": "code",
   "execution_count": null,
   "metadata": {
    "collapsed": true
   },
   "outputs": [],
   "source": [
    "url = \"http://vis-www.cs.umass.edu/lfw/lfw.tgz\"\n",
    "filename = \"lfw.tgz\"\n",
    "directory = \"imgs\"\n",
    "new_dir = \"new_imgs\"\n",
    "import urllib\n",
    "import tarfile\n",
    "import os\n",
    "import tarfile\n",
    "import numpy as np\n",
    "import matplotlib.pyplot as plt\n",
    "from matplotlib.image import imread\n",
    "from scipy.misc import imresize, imsave\n",
    "import tensorflow as tf\n",
    "%matplotlib inline"
   ]
  },
  {
   "cell_type": "markdown",
   "metadata": {},
   "source": [
    "## Saving the LFW files to a directory"
   ]
  },
  {
   "cell_type": "code",
   "execution_count": null,
   "metadata": {
    "collapsed": true
   },
   "outputs": [],
   "source": [
    "if not os.path.isdir(directory):\n",
    "    if not os.path.isfile(filename):\n",
    "        urllib.urlretrieve (url, filename)\n",
    "    tar = tarfile.open(filename, \"r:gz\")\n",
    "    tar.extractall(path=directory)\n",
    "    tar.close()"
   ]
  },
  {
   "cell_type": "markdown",
   "metadata": {},
   "source": [
    "## Modifying the images (reducing their size)"
   ]
  },
  {
   "cell_type": "code",
   "execution_count": null,
   "metadata": {
    "collapsed": true
   },
   "outputs": [],
   "source": [
    "filepaths = []\n",
    "for dir_, _, files in os.walk(directory):\n",
    "    for fileName in files:\n",
    "        relDir = os.path.relpath(dir_, directory)\n",
    "        relFile = os.path.join(relDir, fileName)\n",
    "        filepaths.append(directory + \"/\" + relFile)\n",
    "        \n",
    "for i, fp in enumerate(filepaths):\n",
    "    img = imread(fp) #/ 255.0\n",
    "    img = imresize(img, (40, 40))\n",
    "    imsave(new_dir + \"/\" + str(i) + \".png\", img)        "
   ]
  },
  {
   "cell_type": "code",
   "execution_count": null,
   "metadata": {
    "collapsed": true
   },
   "outputs": [],
   "source": [
    "filepaths_new = []\n",
    "for dir_, _, files in os.walk(new_dir):\n",
    "    for fileName in files:\n",
    "        if not fileName.endswith(\".png\"):\n",
    "            continue\n",
    "        relDir = os.path.relpath(dir_, directory)\n",
    "        relFile = os.path.join(relDir, fileName)\n",
    "        filepaths_new.append(directory + \"/\" + relFile)"
   ]
  },
  {
   "cell_type": "markdown",
   "metadata": {},
   "source": [
    "## Definition of a method to access 40 x 40 x 3 face images"
   ]
  },
  {
   "cell_type": "code",
   "execution_count": null,
   "metadata": {
    "collapsed": true
   },
   "outputs": [],
   "source": [
    "def next_batch(num=64, data=filepaths_new):\n",
    "    idx = np.arange(0 , len(data))\n",
    "    np.random.shuffle(idx)\n",
    "    idx = idx[:num]\n",
    "    data_shuffle = [imread(data[i]) for i in idx]\n",
    "\n",
    "    shuffled = np.asarray(data_shuffle)\n",
    "    \n",
    "    return np.asarray(data_shuffle)"
   ]
  },
  {
   "cell_type": "markdown",
   "metadata": {},
   "source": [
    "## Code for creating montages (by Parag Mital)"
   ]
  },
  {
   "cell_type": "code",
   "execution_count": null,
   "metadata": {
    "collapsed": true
   },
   "outputs": [],
   "source": [
    "# Code by Parag Mital (https://github.com/pkmital/CADL/)\n",
    "def montage(images):    \n",
    "    if isinstance(images, list):\n",
    "        images = np.array(images)\n",
    "    img_h = images.shape[1]\n",
    "    img_w = images.shape[2]\n",
    "    n_plots = int(np.ceil(np.sqrt(images.shape[0])))\n",
    "    if len(images.shape) == 4 and images.shape[3] == 3:\n",
    "        m = np.ones(\n",
    "            (images.shape[1] * n_plots + n_plots + 1,\n",
    "             images.shape[2] * n_plots + n_plots + 1, 3)) * 0.5\n",
    "    elif len(images.shape) == 4 and images.shape[3] == 1:\n",
    "        m = np.ones(\n",
    "            (images.shape[1] * n_plots + n_plots + 1,\n",
    "             images.shape[2] * n_plots + n_plots + 1, 1)) * 0.5\n",
    "    elif len(images.shape) == 3:\n",
    "        m = np.ones(\n",
    "            (images.shape[1] * n_plots + n_plots + 1,\n",
    "             images.shape[2] * n_plots + n_plots + 1)) * 0.5\n",
    "    else:\n",
    "        raise ValueError('Could not parse image shape of {}'.format(\n",
    "            images.shape))\n",
    "    for i in range(n_plots):\n",
    "        for j in range(n_plots):\n",
    "            this_filter = i * n_plots + j\n",
    "            if this_filter < images.shape[0]:\n",
    "                this_img = images[this_filter]\n",
    "                m[1 + i + i * img_h:1 + i + (i + 1) * img_h,\n",
    "                  1 + j + j * img_w:1 + j + (j + 1) * img_w] = this_img\n",
    "    return m"
   ]
  },
  {
   "cell_type": "markdown",
   "metadata": {},
   "source": [
    "## Definition of the neural network"
   ]
  },
  {
   "cell_type": "code",
   "execution_count": null,
   "metadata": {
    "collapsed": true
   },
   "outputs": [],
   "source": [
    "tf.reset_default_graph()\n",
    "batch_size = 64\n",
    "n_noise = 64\n",
    "\n",
    "X_in = tf.placeholder(dtype=tf.float32, shape=[None, 40, 40, 3], name='X')\n",
    "noise = tf.placeholder(dtype=tf.float32, shape=[None, n_noise])\n",
    "\n",
    "keep_prob = tf.placeholder(dtype=tf.float32, name='keep_prob')\n",
    "is_training = tf.placeholder(dtype=tf.bool, name='is_training')\n",
    "\n",
    "def lrelu(x):\n",
    "    return tf.maximum(x, tf.multiply(x, 0.2))\n",
    "\n",
    "def binary_cross_entropy(x, z):\n",
    "    eps = 1e-12\n",
    "    return (-(x * tf.log(z + eps) + (1. - x) * tf.log(1. - z + eps)))\n",
    "\n",
    "def discriminator(img_in, reuse=None, keep_prob=keep_prob):\n",
    "    activation = lrelu\n",
    "    with tf.variable_scope(\"discriminator\", reuse=reuse):\n",
    "        x = tf.reshape(img_in, shape=[-1, 40, 40, 3])\n",
    "        x = tf.layers.conv2d(x, kernel_size=5, filters=256, strides=2, padding='same', activation=activation)\n",
    "        x = tf.layers.dropout(x, keep_prob)\n",
    "        x = tf.layers.conv2d(x, kernel_size=5, filters=128, strides=1, padding='same', activation=activation)\n",
    "        x = tf.layers.dropout(x, keep_prob)\n",
    "        x = tf.layers.conv2d(x, kernel_size=5, filters=64, strides=1, padding='same', activation=activation)\n",
    "        x = tf.layers.dropout(x, keep_prob)\n",
    "        x = tf.contrib.layers.flatten(x)\n",
    "        x = tf.layers.dense(x, units=128, activation=activation)\n",
    "        x = tf.layers.dense(x, units=1, activation=tf.nn.sigmoid)\n",
    "        return x\n",
    "    \n",
    "def generator(z, keep_prob=keep_prob, is_training=is_training):\n",
    "    activation = lrelu\n",
    "    momentum = 0.9\n",
    "    with tf.variable_scope(\"generator\", reuse=None):\n",
    "        x = z\n",
    "        \n",
    "        d1 = 4#3\n",
    "        d2 = 3\n",
    "        \n",
    "        x = tf.layers.dense(x, units=d1 * d1 * d2, activation=activation)\n",
    "        x = tf.layers.dropout(x, keep_prob)      \n",
    "        x = tf.contrib.layers.batch_norm(x, is_training=is_training, decay=momentum)  \n",
    "        \n",
    "        x = tf.reshape(x, shape=[-1, d1, d1, d2])\n",
    "        x = tf.image.resize_images(x, size=[10, 10])\n",
    "        \n",
    "        \n",
    "        \n",
    "        x = tf.layers.conv2d_transpose(x, kernel_size=5, filters=256, strides=2, padding='same', activation=activation)\n",
    "        x = tf.layers.dropout(x, keep_prob)\n",
    "        x = tf.contrib.layers.batch_norm(x, is_training=is_training, decay=momentum)\n",
    "        x = tf.layers.conv2d_transpose(x, kernel_size=5, filters=128, strides=2, padding='same', activation=activation)\n",
    "        x = tf.layers.dropout(x, keep_prob)\n",
    "        x = tf.contrib.layers.batch_norm(x, is_training=is_training, decay=momentum)\n",
    "        x = tf.layers.conv2d_transpose(x, kernel_size=5, filters=64, strides=1, padding='same', activation=activation)\n",
    "        x = tf.layers.dropout(x, keep_prob)\n",
    "        x = tf.contrib.layers.batch_norm(x, is_training=is_training, decay=momentum)\n",
    "        x = tf.layers.conv2d_transpose(x, kernel_size=5, filters=3, strides=1, padding='same', activation=tf.nn.sigmoid)\n",
    "        return x    "
   ]
  },
  {
   "cell_type": "markdown",
   "metadata": {},
   "source": [
    "## Losses and optimizers"
   ]
  },
  {
   "cell_type": "code",
   "execution_count": null,
   "metadata": {
    "collapsed": true
   },
   "outputs": [],
   "source": [
    "g = generator(noise, keep_prob, is_training)\n",
    "print(g)\n",
    "d_real = discriminator(X_in)\n",
    "d_fake = discriminator(g, reuse=True)\n",
    "\n",
    "vars_g = [var for var in tf.trainable_variables() if var.name.startswith(\"generator\")]\n",
    "vars_d = [var for var in tf.trainable_variables() if var.name.startswith(\"discriminator\")]\n",
    "\n",
    "\n",
    "d_reg = tf.contrib.layers.apply_regularization(tf.contrib.layers.l2_regularizer(1e-6), vars_d)\n",
    "g_reg = tf.contrib.layers.apply_regularization(tf.contrib.layers.l2_regularizer(1e-6), vars_g)\n",
    "\n",
    "loss_d_real = binary_cross_entropy(tf.ones_like(d_real), d_real)\n",
    "loss_d_fake = binary_cross_entropy(tf.zeros_like(d_fake), d_fake)\n",
    "loss_g = tf.reduce_mean(binary_cross_entropy(tf.ones_like(d_fake), d_fake))\n",
    "\n",
    "loss_d = tf.reduce_mean(0.5 * (loss_d_real + loss_d_fake))\n",
    "\n",
    "update_ops = tf.get_collection(tf.GraphKeys.UPDATE_OPS)\n",
    "with tf.control_dependencies(update_ops):\n",
    "    optimizer_d = tf.train.RMSPropOptimizer(learning_rate=0.0001).minimize(loss_d + d_reg, var_list=vars_d)\n",
    "    optimizer_g = tf.train.RMSPropOptimizer(learning_rate=0.0002).minimize(loss_g + g_reg, var_list=vars_g)\n",
    "sess = tf.Session()\n",
    "sess.run(tf.global_variables_initializer())"
   ]
  },
  {
   "cell_type": "markdown",
   "metadata": {},
   "source": [
    "## Training the network"
   ]
  },
  {
   "cell_type": "code",
   "execution_count": null,
   "metadata": {
    "collapsed": true
   },
   "outputs": [],
   "source": [
    "for i in range(60000):\n",
    "    train_d = True\n",
    "    train_g = True\n",
    "    keep_prob_train = 0.6 # 0.5\n",
    "    \n",
    "    \n",
    "    n = np.random.uniform(0.0, 1.0, [batch_size, n_noise]).astype(np.float32)   \n",
    "    batch = [b for b in next_batch(num=batch_size)]  \n",
    "    \n",
    "    d_real_ls, d_fake_ls, g_ls, d_ls = sess.run([loss_d_real, loss_d_fake, loss_g, loss_d], feed_dict={X_in: batch, noise: n, keep_prob: keep_prob_train, is_training:True})\n",
    "    \n",
    "    d_fake_ls_init = d_fake_ls\n",
    "    \n",
    "    d_real_ls = np.mean(d_real_ls)\n",
    "    d_fake_ls = np.mean(d_fake_ls)\n",
    "    g_ls = g_ls\n",
    "    d_ls = d_ls\n",
    "        \n",
    "    if g_ls * 1.35 < d_ls:\n",
    "        train_g = False\n",
    "        pass\n",
    "    if d_ls * 1.35 < g_ls:\n",
    "        train_d = False\n",
    "        pass\n",
    "    \n",
    "    if train_d:\n",
    "        sess.run(optimizer_d, feed_dict={noise: n, X_in: batch, keep_prob: keep_prob_train, is_training:True})\n",
    "        \n",
    "        \n",
    "    if train_g:\n",
    "        sess.run(optimizer_g, feed_dict={noise: n, keep_prob: keep_prob_train, is_training:True})\n",
    "        \n",
    "        \n",
    "    if not i % 10:\n",
    "        print (i, d_ls, g_ls)\n",
    "        if not train_g:\n",
    "            print(\"not training generator\")\n",
    "        if not train_d:\n",
    "            print(\"not training discriminator\")\n",
    "        gen_imgs = sess.run(g, feed_dict = {noise: n, keep_prob: 1.0, is_training:False})\n",
    "        imgs = [img[:,:,:] for img in gen_imgs]\n",
    "        m = montage(imgs)\n",
    "        #m = imgs[0]\n",
    "        plt.axis('off')\n",
    "        plt.imshow(m, cmap='gray')\n",
    "        plt.show()"
   ]
  }
 ],
 "metadata": {
  "kernelspec": {
   "display_name": "Python 3",
   "language": "python",
   "name": "python3"
  },
  "language_info": {
   "codemirror_mode": {
    "name": "ipython",
    "version": 3
   },
   "file_extension": ".py",
   "mimetype": "text/x-python",
   "name": "python",
   "nbconvert_exporter": "python",
   "pygments_lexer": "ipython3",
   "version": "3.6.1"
  }
 },
 "nbformat": 4,
 "nbformat_minor": 2
}
